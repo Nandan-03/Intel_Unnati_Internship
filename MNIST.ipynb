{
  "nbformat": 4,
  "nbformat_minor": 0,
  "metadata": {
    "colab": {
      "provenance": [],
      "authorship_tag": "ABX9TyO5AgmQWhm189dIAT50mcE8",
      "include_colab_link": true
    },
    "kernelspec": {
      "name": "python3",
      "display_name": "Python 3"
    },
    "language_info": {
      "name": "python"
    }
  },
  "cells": [
    {
      "cell_type": "markdown",
      "metadata": {
        "id": "view-in-github",
        "colab_type": "text"
      },
      "source": [
        "<a href=\"https://colab.research.google.com/github/Nandan-03/Intel_Unnati_Internship/blob/main/MNIST.ipynb\" target=\"_parent\"><img src=\"https://colab.research.google.com/assets/colab-badge.svg\" alt=\"Open In Colab\"/></a>"
      ]
    },
    {
      "cell_type": "code",
      "execution_count": 2,
      "metadata": {
        "id": "C4JJa7z2xZ6m"
      },
      "outputs": [],
      "source": [
        "#importing libraries\n",
        "import numpy as np\n",
        "import tensorflow as tf\n",
        "from tensorflow.keras import layers\n",
        "from tensorflow import keras\n",
        "import matplotlib.pyplot as plt\n",
        "from sklearn.model_selection import train_test_split\n",
        "from tensorflow.keras.models import Sequential\n",
        "from tensorflow.keras.layers import Conv2D, MaxPooling2D, Flatten,Dropout, Dense\n",
        "from tensorflow.keras.metrics import Accuracy\n",
        "from sklearn.metrics import accuracy_score, precision_score\n",
        "from sklearn.metrics import confusion_matrix\n"
      ]
    },
    {
      "cell_type": "code",
      "source": [
        "\n",
        "# Load the Fashion MNIST dataset\n",
        "(X, y), (X_test, y_test) = keras.datasets.fashion_mnist.load_data()\n",
        "print(\"Number of training images:\", len(X))\n",
        "print(\"Number of test images:\", len(X_test))"
      ],
      "metadata": {
        "colab": {
          "base_uri": "https://localhost:8080/"
        },
        "id": "PSrmdpR8xd32",
        "outputId": "b1d168a0-709b-4107-a927-faf916ef59b9"
      },
      "execution_count": 3,
      "outputs": [
        {
          "output_type": "stream",
          "name": "stdout",
          "text": [
            "Downloading data from https://storage.googleapis.com/tensorflow/tf-keras-datasets/train-labels-idx1-ubyte.gz\n",
            "29515/29515 [==============================] - 0s 0us/step\n",
            "Downloading data from https://storage.googleapis.com/tensorflow/tf-keras-datasets/train-images-idx3-ubyte.gz\n",
            "26421880/26421880 [==============================] - 0s 0us/step\n",
            "Downloading data from https://storage.googleapis.com/tensorflow/tf-keras-datasets/t10k-labels-idx1-ubyte.gz\n",
            "5148/5148 [==============================] - 0s 0us/step\n",
            "Downloading data from https://storage.googleapis.com/tensorflow/tf-keras-datasets/t10k-images-idx3-ubyte.gz\n",
            "4422102/4422102 [==============================] - 0s 0us/step\n",
            "Number of training images: 60000\n",
            "Number of test images: 10000\n"
          ]
        }
      ]
    },
    {
      "cell_type": "code",
      "source": [
        "# Normalize pixel values to the range [0, 1]\n",
        "X=X.astype('float32') / 255.0\n",
        "X_test = X_test.astype('float32') / 255.0\n",
        "\n",
        "# Reshape the images to have a single grayscale channel\n",
        "X= X.reshape((X.shape[0], 28, 28, 1))\n",
        "X_test = X_test.reshape((X_test.shape[0], 28, 28, 1))\n",
        "\n",
        "# Setiing parameters\n",
        "test_size=0.25\n",
        "random_state=1234\n",
        "\n",
        "# Splitting the training data into training and validation set into a split ratio of 75-25 %\n",
        "X_train, X_val, y_train, y_val = train_test_split(X, y, test_size=test_size, random_state=random_state)"
      ],
      "metadata": {
        "id": "3Af1xkt-xd6p"
      },
      "execution_count": 4,
      "outputs": []
    },
    {
      "cell_type": "code",
      "source": [
        "\n",
        "# Convert labels to one-hot encoding\n",
        "num_classes=10\n",
        "y_train = tf.keras.utils.to_categorical(y_train, num_classes)\n",
        "y_val = tf.keras.utils.to_categorical(y_val, num_classes)\n",
        "y_test = tf.keras.utils.to_categorical(y_test, num_classes)"
      ],
      "metadata": {
        "id": "EFUwyypVxd9l"
      },
      "execution_count": 5,
      "outputs": []
    },
    {
      "cell_type": "code",
      "source": [
        "# Build the CNN model\n",
        "model = Sequential([\n",
        "    Conv2D(32, (3, 3), padding='same', activation='relu', input_shape=(28, 28, 1)),\n",
        "    MaxPooling2D((2, 2)),\n",
        "    Conv2D(64, (3, 3), activation='relu'),\n",
        "    MaxPooling2D((2, 2)),\n",
        "    Conv2D(64, 3, padding='same', activation='relu'),\n",
        "    MaxPooling2D((2, 2)),\n",
        "    Dropout(0.5),\n",
        "    Flatten(),\n",
        "    Dense(128, activation='relu'),\n",
        "    Dense(10, activation='softmax')\n",
        "\n",
        "])\n",
        "\n",
        "\n",
        "\n",
        "# Compile the model\n",
        "# Optimizer specified here is adam with learning rate 0.001, loss is categorical crossentrophy and metric is accuracy\n",
        "learning_rate = 0.001\n",
        "optimizer=tf.keras.optimizers.Adam(learning_rate=learning_rate)\n",
        "model.compile(optimizer=optimizer,  loss='categorical_crossentropy', metrics=['accuracy'])"
      ],
      "metadata": {
        "id": "wLqhxi5KxeAy"
      },
      "execution_count": 7,
      "outputs": []
    },
    {
      "cell_type": "code",
      "source": [
        "history=model.fit(X_train, y_train, batch_size=128, epochs=70, verbose=1, validation_data=(X_val, y_val))\n"
      ],
      "metadata": {
        "colab": {
          "base_uri": "https://localhost:8080/"
        },
        "id": "f4y9JjB9x00k",
        "outputId": "b26d6182-1ce7-4425-97fb-fa264cc710d3"
      },
      "execution_count": 8,
      "outputs": [
        {
          "output_type": "stream",
          "name": "stdout",
          "text": [
            "Epoch 1/70\n",
            "352/352 [==============================] - 38s 102ms/step - loss: 0.7064 - accuracy: 0.7414 - val_loss: 0.4425 - val_accuracy: 0.8395\n",
            "Epoch 2/70\n",
            "352/352 [==============================] - 36s 102ms/step - loss: 0.4298 - accuracy: 0.8436 - val_loss: 0.3447 - val_accuracy: 0.8768\n",
            "Epoch 3/70\n",
            "352/352 [==============================] - 32s 91ms/step - loss: 0.3697 - accuracy: 0.8638 - val_loss: 0.3135 - val_accuracy: 0.8868\n",
            "Epoch 4/70\n",
            "352/352 [==============================] - 38s 107ms/step - loss: 0.3339 - accuracy: 0.8777 - val_loss: 0.2901 - val_accuracy: 0.8923\n",
            "Epoch 5/70\n",
            "352/352 [==============================] - 36s 101ms/step - loss: 0.3115 - accuracy: 0.8860 - val_loss: 0.2688 - val_accuracy: 0.9025\n",
            "Epoch 6/70\n",
            "352/352 [==============================] - 32s 90ms/step - loss: 0.2913 - accuracy: 0.8932 - val_loss: 0.2682 - val_accuracy: 0.9015\n",
            "Epoch 7/70\n",
            "352/352 [==============================] - 32s 91ms/step - loss: 0.2772 - accuracy: 0.8991 - val_loss: 0.2496 - val_accuracy: 0.9080\n",
            "Epoch 8/70\n",
            "352/352 [==============================] - 32s 91ms/step - loss: 0.2633 - accuracy: 0.9033 - val_loss: 0.2406 - val_accuracy: 0.9107\n",
            "Epoch 9/70\n",
            "352/352 [==============================] - 34s 97ms/step - loss: 0.2509 - accuracy: 0.9067 - val_loss: 0.2358 - val_accuracy: 0.9137\n",
            "Epoch 10/70\n",
            "352/352 [==============================] - 31s 88ms/step - loss: 0.2403 - accuracy: 0.9108 - val_loss: 0.2443 - val_accuracy: 0.9099\n",
            "Epoch 11/70\n",
            "352/352 [==============================] - 33s 95ms/step - loss: 0.2309 - accuracy: 0.9144 - val_loss: 0.2247 - val_accuracy: 0.9149\n",
            "Epoch 12/70\n",
            "352/352 [==============================] - 32s 90ms/step - loss: 0.2252 - accuracy: 0.9158 - val_loss: 0.2206 - val_accuracy: 0.9178\n",
            "Epoch 13/70\n",
            "352/352 [==============================] - 33s 95ms/step - loss: 0.2191 - accuracy: 0.9196 - val_loss: 0.2199 - val_accuracy: 0.9167\n",
            "Epoch 14/70\n",
            "352/352 [==============================] - 32s 92ms/step - loss: 0.2086 - accuracy: 0.9228 - val_loss: 0.2184 - val_accuracy: 0.9194\n",
            "Epoch 15/70\n",
            "352/352 [==============================] - 36s 102ms/step - loss: 0.2019 - accuracy: 0.9239 - val_loss: 0.2212 - val_accuracy: 0.9203\n",
            "Epoch 16/70\n",
            "352/352 [==============================] - 34s 96ms/step - loss: 0.1953 - accuracy: 0.9272 - val_loss: 0.2134 - val_accuracy: 0.9214\n",
            "Epoch 17/70\n",
            "352/352 [==============================] - 32s 92ms/step - loss: 0.1925 - accuracy: 0.9266 - val_loss: 0.2048 - val_accuracy: 0.9241\n",
            "Epoch 18/70\n",
            "352/352 [==============================] - 32s 91ms/step - loss: 0.1864 - accuracy: 0.9304 - val_loss: 0.2065 - val_accuracy: 0.9215\n",
            "Epoch 19/70\n",
            "352/352 [==============================] - 32s 92ms/step - loss: 0.1780 - accuracy: 0.9332 - val_loss: 0.2071 - val_accuracy: 0.9240\n",
            "Epoch 20/70\n",
            "352/352 [==============================] - 36s 103ms/step - loss: 0.1767 - accuracy: 0.9343 - val_loss: 0.2074 - val_accuracy: 0.9218\n",
            "Epoch 21/70\n",
            "352/352 [==============================] - 32s 92ms/step - loss: 0.1683 - accuracy: 0.9374 - val_loss: 0.2017 - val_accuracy: 0.9230\n",
            "Epoch 22/70\n",
            "352/352 [==============================] - 32s 90ms/step - loss: 0.1688 - accuracy: 0.9363 - val_loss: 0.2021 - val_accuracy: 0.9252\n",
            "Epoch 23/70\n",
            "352/352 [==============================] - 31s 89ms/step - loss: 0.1617 - accuracy: 0.9396 - val_loss: 0.1991 - val_accuracy: 0.9259\n",
            "Epoch 24/70\n",
            "352/352 [==============================] - 32s 92ms/step - loss: 0.1605 - accuracy: 0.9395 - val_loss: 0.2159 - val_accuracy: 0.9225\n",
            "Epoch 25/70\n",
            "352/352 [==============================] - 32s 91ms/step - loss: 0.1525 - accuracy: 0.9435 - val_loss: 0.1985 - val_accuracy: 0.9291\n",
            "Epoch 26/70\n",
            "352/352 [==============================] - 31s 90ms/step - loss: 0.1513 - accuracy: 0.9424 - val_loss: 0.1978 - val_accuracy: 0.9276\n",
            "Epoch 27/70\n",
            "352/352 [==============================] - 32s 91ms/step - loss: 0.1460 - accuracy: 0.9447 - val_loss: 0.2021 - val_accuracy: 0.9254\n",
            "Epoch 28/70\n",
            "352/352 [==============================] - 32s 90ms/step - loss: 0.1458 - accuracy: 0.9440 - val_loss: 0.1986 - val_accuracy: 0.9271\n",
            "Epoch 29/70\n",
            "352/352 [==============================] - 31s 89ms/step - loss: 0.1421 - accuracy: 0.9459 - val_loss: 0.2024 - val_accuracy: 0.9277\n",
            "Epoch 30/70\n",
            "352/352 [==============================] - 32s 92ms/step - loss: 0.1358 - accuracy: 0.9491 - val_loss: 0.2140 - val_accuracy: 0.9263\n",
            "Epoch 31/70\n",
            "352/352 [==============================] - 34s 95ms/step - loss: 0.1355 - accuracy: 0.9482 - val_loss: 0.2062 - val_accuracy: 0.9283\n",
            "Epoch 32/70\n",
            "352/352 [==============================] - 33s 93ms/step - loss: 0.1325 - accuracy: 0.9498 - val_loss: 0.2059 - val_accuracy: 0.9292\n",
            "Epoch 33/70\n",
            "352/352 [==============================] - 31s 88ms/step - loss: 0.1302 - accuracy: 0.9503 - val_loss: 0.2009 - val_accuracy: 0.9282\n",
            "Epoch 34/70\n",
            "352/352 [==============================] - 32s 91ms/step - loss: 0.1256 - accuracy: 0.9526 - val_loss: 0.2218 - val_accuracy: 0.9239\n",
            "Epoch 35/70\n",
            "352/352 [==============================] - 32s 91ms/step - loss: 0.1256 - accuracy: 0.9519 - val_loss: 0.2137 - val_accuracy: 0.9279\n",
            "Epoch 36/70\n",
            "352/352 [==============================] - 32s 90ms/step - loss: 0.1226 - accuracy: 0.9539 - val_loss: 0.2010 - val_accuracy: 0.9286\n",
            "Epoch 37/70\n",
            "352/352 [==============================] - 34s 96ms/step - loss: 0.1202 - accuracy: 0.9536 - val_loss: 0.2044 - val_accuracy: 0.9282\n",
            "Epoch 38/70\n",
            "352/352 [==============================] - 33s 93ms/step - loss: 0.1165 - accuracy: 0.9553 - val_loss: 0.2089 - val_accuracy: 0.9287\n",
            "Epoch 39/70\n",
            "352/352 [==============================] - 32s 91ms/step - loss: 0.1155 - accuracy: 0.9568 - val_loss: 0.2090 - val_accuracy: 0.9299\n",
            "Epoch 40/70\n",
            "352/352 [==============================] - 32s 90ms/step - loss: 0.1142 - accuracy: 0.9565 - val_loss: 0.2101 - val_accuracy: 0.9292\n",
            "Epoch 41/70\n",
            "352/352 [==============================] - 35s 99ms/step - loss: 0.1145 - accuracy: 0.9567 - val_loss: 0.2164 - val_accuracy: 0.9251\n",
            "Epoch 42/70\n",
            "352/352 [==============================] - 32s 91ms/step - loss: 0.1117 - accuracy: 0.9579 - val_loss: 0.2159 - val_accuracy: 0.9266\n",
            "Epoch 43/70\n",
            "352/352 [==============================] - 32s 91ms/step - loss: 0.1076 - accuracy: 0.9587 - val_loss: 0.2120 - val_accuracy: 0.9280\n",
            "Epoch 44/70\n",
            "352/352 [==============================] - 31s 89ms/step - loss: 0.1063 - accuracy: 0.9609 - val_loss: 0.2105 - val_accuracy: 0.9289\n",
            "Epoch 45/70\n",
            "352/352 [==============================] - 32s 90ms/step - loss: 0.1040 - accuracy: 0.9598 - val_loss: 0.2087 - val_accuracy: 0.9280\n",
            "Epoch 46/70\n",
            "352/352 [==============================] - 32s 92ms/step - loss: 0.1027 - accuracy: 0.9602 - val_loss: 0.2221 - val_accuracy: 0.9287\n",
            "Epoch 47/70\n",
            "352/352 [==============================] - 31s 89ms/step - loss: 0.1005 - accuracy: 0.9618 - val_loss: 0.2256 - val_accuracy: 0.9275\n",
            "Epoch 48/70\n",
            "352/352 [==============================] - 34s 96ms/step - loss: 0.0996 - accuracy: 0.9618 - val_loss: 0.2186 - val_accuracy: 0.9310\n",
            "Epoch 49/70\n",
            "352/352 [==============================] - 33s 94ms/step - loss: 0.0950 - accuracy: 0.9635 - val_loss: 0.2207 - val_accuracy: 0.9292\n",
            "Epoch 50/70\n",
            "352/352 [==============================] - 33s 94ms/step - loss: 0.0939 - accuracy: 0.9641 - val_loss: 0.2210 - val_accuracy: 0.9314\n",
            "Epoch 51/70\n",
            "352/352 [==============================] - 36s 101ms/step - loss: 0.0940 - accuracy: 0.9641 - val_loss: 0.2230 - val_accuracy: 0.9306\n",
            "Epoch 52/70\n",
            "352/352 [==============================] - 37s 104ms/step - loss: 0.0956 - accuracy: 0.9635 - val_loss: 0.2114 - val_accuracy: 0.9296\n",
            "Epoch 53/70\n",
            "352/352 [==============================] - 34s 97ms/step - loss: 0.0933 - accuracy: 0.9637 - val_loss: 0.2151 - val_accuracy: 0.9297\n",
            "Epoch 54/70\n",
            "352/352 [==============================] - 35s 100ms/step - loss: 0.0903 - accuracy: 0.9656 - val_loss: 0.2348 - val_accuracy: 0.9271\n",
            "Epoch 55/70\n",
            "352/352 [==============================] - 34s 97ms/step - loss: 0.0869 - accuracy: 0.9663 - val_loss: 0.2243 - val_accuracy: 0.9273\n",
            "Epoch 56/70\n",
            "352/352 [==============================] - 35s 98ms/step - loss: 0.0904 - accuracy: 0.9659 - val_loss: 0.2253 - val_accuracy: 0.9297\n",
            "Epoch 57/70\n",
            "352/352 [==============================] - 35s 99ms/step - loss: 0.0887 - accuracy: 0.9660 - val_loss: 0.2267 - val_accuracy: 0.9291\n",
            "Epoch 58/70\n",
            "352/352 [==============================] - 35s 100ms/step - loss: 0.0868 - accuracy: 0.9666 - val_loss: 0.2362 - val_accuracy: 0.9297\n",
            "Epoch 59/70\n",
            "352/352 [==============================] - 38s 107ms/step - loss: 0.0841 - accuracy: 0.9681 - val_loss: 0.2190 - val_accuracy: 0.9295\n",
            "Epoch 60/70\n",
            "352/352 [==============================] - 38s 107ms/step - loss: 0.0816 - accuracy: 0.9692 - val_loss: 0.2349 - val_accuracy: 0.9285\n",
            "Epoch 61/70\n",
            "352/352 [==============================] - 33s 95ms/step - loss: 0.0817 - accuracy: 0.9700 - val_loss: 0.2399 - val_accuracy: 0.9303\n",
            "Epoch 62/70\n",
            "352/352 [==============================] - 37s 106ms/step - loss: 0.0834 - accuracy: 0.9685 - val_loss: 0.2308 - val_accuracy: 0.9297\n",
            "Epoch 63/70\n",
            "352/352 [==============================] - 40s 113ms/step - loss: 0.0829 - accuracy: 0.9686 - val_loss: 0.2408 - val_accuracy: 0.9290\n",
            "Epoch 64/70\n",
            "352/352 [==============================] - 37s 105ms/step - loss: 0.0793 - accuracy: 0.9704 - val_loss: 0.2311 - val_accuracy: 0.9287\n",
            "Epoch 65/70\n",
            "352/352 [==============================] - 35s 98ms/step - loss: 0.0782 - accuracy: 0.9702 - val_loss: 0.2439 - val_accuracy: 0.9255\n",
            "Epoch 66/70\n",
            "352/352 [==============================] - 36s 104ms/step - loss: 0.0817 - accuracy: 0.9695 - val_loss: 0.2302 - val_accuracy: 0.9285\n",
            "Epoch 67/70\n",
            "352/352 [==============================] - 36s 103ms/step - loss: 0.0800 - accuracy: 0.9692 - val_loss: 0.2386 - val_accuracy: 0.9287\n",
            "Epoch 68/70\n",
            "352/352 [==============================] - 34s 96ms/step - loss: 0.0770 - accuracy: 0.9702 - val_loss: 0.2466 - val_accuracy: 0.9299\n",
            "Epoch 69/70\n",
            "352/352 [==============================] - 33s 92ms/step - loss: 0.0757 - accuracy: 0.9715 - val_loss: 0.2488 - val_accuracy: 0.9285\n",
            "Epoch 70/70\n",
            "352/352 [==============================] - 33s 94ms/step - loss: 0.0795 - accuracy: 0.9707 - val_loss: 0.2448 - val_accuracy: 0.9289\n"
          ]
        }
      ]
    },
    {
      "cell_type": "code",
      "source": [
        "\n",
        "# Evaluate the model\n",
        "y_pred = model.predict(X_test)\n",
        "y_pred = tf.argmax(y_pred, axis=1)\n",
        "y_true = tf.argmax(y_test, axis=-1)\n",
        "\n",
        "accuracy = accuracy_score(y_true, y_pred)\n",
        "precision = precision_score(y_true, y_pred, average='macro', zero_division=0.0)\n",
        "\n",
        "print(\"Accuracy:\", accuracy)\n",
        "print(\"Precision:\", precision)\n",
        "# Compute confusion matrix\n",
        "confusion = confusion_matrix(y_true, y_pred)\n",
        "print(\"Confusion Matrix:\")\n",
        "print(confusion)"
      ],
      "metadata": {
        "colab": {
          "base_uri": "https://localhost:8080/"
        },
        "id": "BNmXHJ40x6hq",
        "outputId": "e9281a8f-27d3-4bfa-bd24-4beceaccf7e5"
      },
      "execution_count": 9,
      "outputs": [
        {
          "output_type": "stream",
          "name": "stdout",
          "text": [
            "313/313 [==============================] - 3s 8ms/step\n",
            "Accuracy: 0.9255\n",
            "Precision: 0.9254529884594287\n",
            "Confusion Matrix:\n",
            "[[882   0  13  15   2   2  81   0   5   0]\n",
            " [  1 987   0   9   0   0   1   0   2   0]\n",
            " [ 20   1 910   7  28   0  34   0   0   0]\n",
            " [ 12   3   9 947  12   0  16   0   1   0]\n",
            " [  0   0  72  30 846   0  51   0   1   0]\n",
            " [  0   0   0   0   0 988   0  10   0   2]\n",
            " [ 92   0  61  25  48   0 765   0   9   0]\n",
            " [  0   0   0   0   0   5   0 984   0  11]\n",
            " [  3   0   3   3   1   3   1   1 985   0]\n",
            " [  0   0   1   0   0   5   0  33   0 961]]\n"
          ]
        }
      ]
    },
    {
      "cell_type": "code",
      "source": [
        "\n",
        "# Plot accuracy and loss during training\n",
        "plt.figure(figsize=(12, 4))\n",
        "plt.subplot(1, 2, 1)\n",
        "plt.plot(history.history['accuracy'], label='Training Accuracy')\n",
        "plt.plot(history.history['val_accuracy'], label='Validation Accuracy')\n",
        "plt.xlabel('Epoch')\n",
        "plt.ylabel('Accuracy')\n",
        "plt.legend()\n",
        "\n",
        "plt.subplot(1, 2, 2)\n",
        "plt.plot(history.history['loss'], label='Training Loss')\n",
        "plt.plot(history.history['val_loss'], label='Validation Loss')\n",
        "plt.xlabel('Epoch')\n",
        "plt.ylabel('Loss')\n",
        "plt.legend()\n",
        "\n",
        "plt.show()\n",
        "\n",
        "#Save the model\n",
        "model.save(\"FINAL.h5\")"
      ],
      "metadata": {
        "colab": {
          "base_uri": "https://localhost:8080/",
          "height": 443
        },
        "id": "gdHNdOg-x7mi",
        "outputId": "8a08b460-c4aa-47d3-b552-eea9ffe92b23"
      },
      "execution_count": 10,
      "outputs": [
        {
          "output_type": "display_data",
          "data": {
            "text/plain": [
              "<Figure size 1200x400 with 2 Axes>"
            ],
            "image/png": "[encoded data removed]"
          },
          "metadata": {}
        },
        {
          "output_type": "stream",
          "name": "stderr",
          "text": [
            "/usr/local/lib/python3.10/dist-packages/keras/src/engine/training.py:3000: UserWarning: You are saving your model as an HDF5 file via `model.save()`. This file format is considered legacy. We recommend using instead the native Keras format, e.g. `model.save('my_model.keras')`.\n",
            "  saving_api.save_model(\n"
          ]
        }
      ]
    }
  ]
}